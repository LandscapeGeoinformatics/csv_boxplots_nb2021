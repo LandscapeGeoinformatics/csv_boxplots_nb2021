{
 "cells": [
  {
   "cell_type": "markdown",
   "metadata": {
    "id": "pLBvTp_PCPgx"
   },
   "source": [
    "Maastikuökoloogia\n",
    "\n",
    "__Evelyn Uuemaa, PhD__\n",
    "\n",
    "- Praktikumi lisa\n",
    "\n",
    "    Tudengid laevad üles oma CSV-faili ja saavad selle põhjal teha karpdiagrammid. Ühtlasi saavad nad tulemuse aruande jaoks pildifailina alla laadida."
   ]
  },
  {
   "cell_type": "markdown",
   "metadata": {
    "id": "dU09-eocCPg5"
   },
   "source": [
    "## Kuidas seda skripti kasutada\n",
    "\n",
    "Mine hiirega kõige esimesele kastile ja vajuta \"Run\" nuppu, et üksus läbi jooksutada ja minna järgmiste plokkide juurde. Kui midagi valesti läheb, saad sa lihtsasti uuesti algusest alustada."
   ]
  },
  {
   "cell_type": "code",
   "execution_count": 1,
   "metadata": {
    "id": "izMKLW4VCPg6"
   },
   "outputs": [],
   "source": [
    "from IPython.display import display\n",
    "import ipywidgets as widgets\n",
    "\n",
    "import pandas as pd\n",
    "import seaborn as sns\n",
    "import matplotlib.pyplot as plt\n",
    "\n",
    "sns.set_theme(style=\"whitegrid\")\n",
    "\n",
    "%matplotlib inline"
   ]
  },
  {
   "cell_type": "markdown",
   "metadata": {
    "id": "lJccJDl1XdbV"
   },
   "source": [
    "Ülejärgmise ploki juures tuleb sul arvutist valida äsja salvestatud CSV-fail. Kui sinu CSV-faili eraldusmärgiks on koma, pole vaja midagi muuta. Kui aga semikoolon, tee muutus järgmises plokis: csv_delimiter = \";\"."
   ]
  },
  {
   "cell_type": "code",
   "execution_count": 2,
   "metadata": {
    "id": "GB-ljpDACPg9"
   },
   "outputs": [],
   "source": [
    "upload = widgets.FileUpload( accept='.csv', multiple=False )\n",
    "\n",
    "csv_delimiter = \",\"\n",
    "text_encoding = \"utf8\""
   ]
  },
  {
   "cell_type": "code",
   "execution_count": 3,
   "metadata": {
    "colab": {
     "base_uri": "https://localhost:8080/",
     "height": 49,
     "referenced_widgets": [
      "f72a16df0bb64acabbac7ee27acb104d",
      "bb181f8fa2b348719ebb24a9106dba8e",
      "39a36b2dd34347699d8d5839e24e36ae"
     ]
    },
    "id": "BjDuXlkECPg9",
    "outputId": "b33a4d5d-9ccb-4bc1-bda3-e474ab4da192"
   },
   "outputs": [
    {
     "data": {
      "application/vnd.jupyter.widget-view+json": {
       "model_id": "343c3542550649f4a3d05a62bf31f86b",
       "version_major": 2,
       "version_minor": 0
      },
      "text/plain": [
       "FileUpload(value={}, accept='.csv', description='Upload')"
      ]
     },
     "metadata": {},
     "output_type": "display_data"
    }
   ],
   "source": [
    "upload"
   ]
  },
  {
   "cell_type": "markdown",
   "metadata": {
    "id": "EGNME6bpCPg_"
   },
   "source": [
    "Kui oled faili oma arvutist valinud, peaks üleslaadimise lahter näitama \"Upload (1)\", mis tähendab, et fail on nüüd valitud.\n",
    "\n",
    "Jooksuta läbi järgmine plokk. Tulemuseks peaks olema ilus tabel, mitte ühes jorus tekst. Kui näed väärtuste vahel semikooloneid (;), tuleb teises plokis teha parandus (csv_delimiter = \";\")."
   ]
  },
  {
   "cell_type": "code",
   "execution_count": 4,
   "metadata": {
    "colab": {
     "base_uri": "https://localhost:8080/",
     "height": 359
    },
    "id": "UIpA7Dx6CPhA",
    "outputId": "8313e1df-786c-49b3-bc7d-95f786912bcd"
   },
   "outputs": [
    {
     "data": {
      "text/html": [
       "<div>\n",
       "<style scoped>\n",
       "    .dataframe tbody tr th:only-of-type {\n",
       "        vertical-align: middle;\n",
       "    }\n",
       "\n",
       "    .dataframe tbody tr th {\n",
       "        vertical-align: top;\n",
       "    }\n",
       "\n",
       "    .dataframe thead th {\n",
       "        text-align: right;\n",
       "    }\n",
       "</style>\n",
       "<table border=\"1\" class=\"dataframe\">\n",
       "  <thead>\n",
       "    <tr style=\"text-align: right;\">\n",
       "      <th></th>\n",
       "      <th>nimi</th>\n",
       "      <th>liik</th>\n",
       "      <th>ED</th>\n",
       "      <th>PD</th>\n",
       "      <th>SDI</th>\n",
       "      <th>MSI</th>\n",
       "      <th>MPS</th>\n",
       "    </tr>\n",
       "  </thead>\n",
       "  <tbody>\n",
       "    <tr>\n",
       "      <th>0</th>\n",
       "      <td>107941_clip.tif</td>\n",
       "      <td>rukkirääk</td>\n",
       "      <td>39.233298</td>\n",
       "      <td>3.204666</td>\n",
       "      <td>1.241471</td>\n",
       "      <td>1.363491</td>\n",
       "      <td>31.204501</td>\n",
       "    </tr>\n",
       "    <tr>\n",
       "      <th>1</th>\n",
       "      <td>107945_clip.tif</td>\n",
       "      <td>rukkirääk</td>\n",
       "      <td>34.874042</td>\n",
       "      <td>2.243266</td>\n",
       "      <td>1.356577</td>\n",
       "      <td>1.555764</td>\n",
       "      <td>44.577858</td>\n",
       "    </tr>\n",
       "    <tr>\n",
       "      <th>2</th>\n",
       "      <td>64431_clip.tif</td>\n",
       "      <td>rukkirääk</td>\n",
       "      <td>21.873024</td>\n",
       "      <td>1.607975</td>\n",
       "      <td>0.943917</td>\n",
       "      <td>1.517701</td>\n",
       "      <td>62.190023</td>\n",
       "    </tr>\n",
       "    <tr>\n",
       "      <th>3</th>\n",
       "      <td>46597_clip.tif</td>\n",
       "      <td>rukkirääk</td>\n",
       "      <td>37.015887</td>\n",
       "      <td>2.251165</td>\n",
       "      <td>1.618734</td>\n",
       "      <td>1.641126</td>\n",
       "      <td>44.421445</td>\n",
       "    </tr>\n",
       "    <tr>\n",
       "      <th>4</th>\n",
       "      <td>79202_clip.tif</td>\n",
       "      <td>rukkirääk</td>\n",
       "      <td>31.524262</td>\n",
       "      <td>1.902770</td>\n",
       "      <td>0.908090</td>\n",
       "      <td>1.619907</td>\n",
       "      <td>52.554949</td>\n",
       "    </tr>\n",
       "    <tr>\n",
       "      <th>5</th>\n",
       "      <td>55746_clip.tif</td>\n",
       "      <td>rukkirääk</td>\n",
       "      <td>36.215352</td>\n",
       "      <td>3.845599</td>\n",
       "      <td>1.233802</td>\n",
       "      <td>1.347631</td>\n",
       "      <td>26.003751</td>\n",
       "    </tr>\n",
       "    <tr>\n",
       "      <th>6</th>\n",
       "      <td>107943_clip.tif</td>\n",
       "      <td>rukkirääk</td>\n",
       "      <td>27.258309</td>\n",
       "      <td>2.824731</td>\n",
       "      <td>0.826117</td>\n",
       "      <td>1.361905</td>\n",
       "      <td>35.401597</td>\n",
       "    </tr>\n",
       "    <tr>\n",
       "      <th>7</th>\n",
       "      <td>63408_clip.tif</td>\n",
       "      <td>rukkirääk</td>\n",
       "      <td>38.824617</td>\n",
       "      <td>2.854156</td>\n",
       "      <td>1.386288</td>\n",
       "      <td>1.561111</td>\n",
       "      <td>35.036633</td>\n",
       "    </tr>\n",
       "    <tr>\n",
       "      <th>8</th>\n",
       "      <td>126669_clip.tif</td>\n",
       "      <td>rukkirääk</td>\n",
       "      <td>45.445060</td>\n",
       "      <td>3.832153</td>\n",
       "      <td>1.575866</td>\n",
       "      <td>1.508586</td>\n",
       "      <td>26.094992</td>\n",
       "    </tr>\n",
       "    <tr>\n",
       "      <th>9</th>\n",
       "      <td>107973_clip.tif</td>\n",
       "      <td>rukkirääk</td>\n",
       "      <td>38.761963</td>\n",
       "      <td>3.832153</td>\n",
       "      <td>1.463337</td>\n",
       "      <td>1.362103</td>\n",
       "      <td>26.094992</td>\n",
       "    </tr>\n",
       "  </tbody>\n",
       "</table>\n",
       "</div>"
      ],
      "text/plain": [
       "              nimi       liik         ED        PD       SDI       MSI  \\\n",
       "0  107941_clip.tif  rukkirääk  39.233298  3.204666  1.241471  1.363491   \n",
       "1  107945_clip.tif  rukkirääk  34.874042  2.243266  1.356577  1.555764   \n",
       "2   64431_clip.tif  rukkirääk  21.873024  1.607975  0.943917  1.517701   \n",
       "3   46597_clip.tif  rukkirääk  37.015887  2.251165  1.618734  1.641126   \n",
       "4   79202_clip.tif  rukkirääk  31.524262  1.902770  0.908090  1.619907   \n",
       "5   55746_clip.tif  rukkirääk  36.215352  3.845599  1.233802  1.347631   \n",
       "6  107943_clip.tif  rukkirääk  27.258309  2.824731  0.826117  1.361905   \n",
       "7   63408_clip.tif  rukkirääk  38.824617  2.854156  1.386288  1.561111   \n",
       "8  126669_clip.tif  rukkirääk  45.445060  3.832153  1.575866  1.508586   \n",
       "9  107973_clip.tif  rukkirääk  38.761963  3.832153  1.463337  1.362103   \n",
       "\n",
       "         MPS  \n",
       "0  31.204501  \n",
       "1  44.577858  \n",
       "2  62.190023  \n",
       "3  44.421445  \n",
       "4  52.554949  \n",
       "5  26.003751  \n",
       "6  35.401597  \n",
       "7  35.036633  \n",
       "8  26.094992  \n",
       "9  26.094992  "
      ]
     },
     "execution_count": 4,
     "metadata": {},
     "output_type": "execute_result"
    }
   ],
   "source": [
    "filestream_encoding = \"latin1\"\n",
    "\n",
    "t = upload.data[0].decode(encoding=filestream_encoding)\n",
    "\n",
    "with open('tmp.csv', 'w', encoding=text_encoding) as fh:\n",
    "    fh.write(t)\n",
    "\n",
    "df = pd.read_csv('tmp.csv', encoding=text_encoding, sep=csv_delimiter)\n",
    "\n",
    "df.head(10)"
   ]
  },
  {
   "cell_type": "markdown",
   "metadata": {
    "id": "G3G7rVvLCPhB"
   },
   "source": [
    "Nüüd on andmed loetud andmeraami (*dataframe*) formaati ja me saame arvutada statistikuid ning teha jooniseid. Muuda järgmises plokis muutuja \"classes\" väärtust, kui sul on see tulp mõne teise nimega kui \"Liik\" (nt \"liik\"). Seejärel jooksuta järgmist plokki, et saada karpvurrdiagramm.\n",
    "\n",
    "Iga järgmise näitajaga joonise tegemiseks muuda siin ka \"values\" väärtust (nt values = \"SEI\", values = \"AWMSI\" jne)."
   ]
  },
  {
   "cell_type": "code",
   "execution_count": 5,
   "metadata": {
    "id": "Z33yffESCPhB"
   },
   "outputs": [],
   "source": [
    "classes = \"liik\"\n",
    "\n",
    "values = \"ED\""
   ]
  },
  {
   "cell_type": "code",
   "execution_count": 6,
   "metadata": {
    "colab": {
     "base_uri": "https://localhost:8080/",
     "height": 474
    },
    "id": "1ZoHRp_BCPhB",
    "outputId": "021c8dfc-8a13-4afc-d6cb-fa017feb1958"
   },
   "outputs": [
    {
     "data": {
      "image/png": "[encoded data removed]",
      "text/plain": [
       "<Figure size 360x504 with 1 Axes>"
      ]
     },
     "metadata": {
      "needs_background": "light"
     },
     "output_type": "display_data"
    }
   ],
   "source": [
    "df['values_prep'] = pd.to_numeric(df[values], errors='coerce')\n",
    "\n",
    "df = df.rename(columns={values : f\"{values}_\"})\n",
    "df = df.rename(columns={'values_prep' : values})\n",
    "\n",
    "fig, ax = plt.subplots(figsize=(5,7))\n",
    "\n",
    "sns.boxplot(x=classes, y=values, data=df.dropna(subset=[classes, values]), palette=\"Spectral\")\n",
    "plt.xticks(\n",
    "    rotation=0, \n",
    "    horizontalalignment='center',\n",
    "    fontweight='light',\n",
    "    fontsize='x-large', \n",
    ")\n",
    "plt.xlabel(classes, fontsize='x-large')\n",
    "plt.yticks(\n",
    "    rotation=0, \n",
    "    horizontalalignment='right',\n",
    "    fontweight='light',\n",
    "    fontsize='x-large',\n",
    ")\n",
    "plt.ylabel(values, fontsize='x-large')\n",
    "\n",
    "plt.title(f\" {values} karpdiagrammid\", fontsize=20)\n",
    "\n",
    "plt.savefig('boxplots.png', bbox_inches='tight', transparent=False)\n",
    "plt.show()"
   ]
  },
  {
   "cell_type": "markdown",
   "metadata": {
    "id": "oU1U5pMxCPhC"
   },
   "source": [
    "[lae joonis alla siit](boxplots.png)\n",
    "\n",
    "Alternatiivina võid ka pildi lihtsalt otse kopeerida, vajutades hiire parema klõpsuga pildil.\n",
    "\n",
    "**Karpdiagrammide tõlgendamine**\n",
    " “karbi” keskjoon näitab mediaani, karbi ülemine ja alumine serv märgib 75% ja 25% protsentiile (1. ja 3. kvartiili), püstjoonte äärmusotsad (vuntsid) markeerivad väljaspoole kvartiilihaaret x 1,5 jäävaid vaatlusi, mida nimetatakse erinditeks (outlier). (Kvartiilihaare on inglise keeles Interquartile range, IQR)\n",
    " SDI ehk Shannoni mitmekesisuse indeksite võrdluse põhjal võime öelda, et rukkiräägu elupaikadele arvutatud SDI mediaanväärtus on veidi kõrgem kirjurähni elupaikade SDI mediaanväärtusest. Seega võib öelda, et rukkirääk eelistab natuke keerukama maastikuga elupaiku. Samas peaksime seda erinevust veel statistilisel testima, milleks kasutame allpool Mann-Whitney U testi, mis võimaldab hinnata, kas see elupaikade erinevus on ka statistiliselt oluline.\n",
    " Lisaks võime veel karpdiagrammidelt välja lugeda, et kirjurähni elupaikadele arvutatud SDI väärtused on suurema varieeruvusega (karp ja vuntsid on suurema ulatusega) kui rukkiräägul. Seega võiksime oletada, et rukkiräägu elupaiga eelistused on SDI indeksi alusel hinnatava maastiku keerukuse osas veidi kitsamad st kirjurähni elupaigad on suurema maastiku keerukuse varieeruvusega kui rukkiräägul."
   ]
  },
  {
   "cell_type": "markdown",
   "metadata": {
    "id": "w54C7uQ5w__C"
   },
   "source": [
    "## Mann-Whitney U test\n",
    "\n",
    "Mann-Whitney U test on mitteparameetriline test, mida kasutatakse kahe rühma võrdlemiseks juhul kui rühmad ei ole normaaljaotusega ja/või vaatlusandmeid on vähe. Valimi suurus peaks olema vähemalt 20 ning võrreldavad muutujad  peaksid olema üksteisest sõltumatud. "
   ]
  },
  {
   "cell_type": "code",
   "execution_count": 7,
   "metadata": {
    "colab": {
     "base_uri": "https://localhost:8080/"
    },
    "id": "wXHkGfi1w__D",
    "outputId": "b0425309-0dc1-449a-a79c-951671a811d9"
   },
   "outputs": [
    {
     "name": "stdout",
     "output_type": "stream",
     "text": [
      "U statistik 1269.0\n",
      "P-väärtus 0.8985109934721235\n"
     ]
    }
   ],
   "source": [
    "from scipy.stats import mannwhitneyu\n",
    "\n",
    "if not len(df[classes].unique()) == 2:\n",
    "    print(\"Hoiatus! Vajalik on kaks klassi\")\n",
    "\n",
    "group1 = df.loc[df[classes] == df[classes].unique()[0]][values]\n",
    "group2 = df.loc[df[classes] == df[classes].unique()[1]][values]\n",
    "\n",
    "#perform the Mann-Whitney U test\n",
    "result = mannwhitneyu(group1, group2, alternative='two-sided')\n",
    "print(f\"U statistik {result.statistic}\")\n",
    "print(f\"P-väärtus {result.pvalue}\")"
   ]
  },
  {
   "cell_type": "markdown",
   "metadata": {
    "id": "JKrRl8o3w__D"
   },
   "source": [
    "**Tulemuste tõlgendamine**\n",
    "\n",
    "Nullhüpotees: kahe liigi elupaikade maastik on sarnane uuritava maastikuindeksi põhjal hinnatuna \n",
    "\n",
    "Sisukas hüpotees: kahe liigi elupaikade maastik on erinev uuritava maastikuindeksi põhjal hinnatuna \n",
    "\n",
    "Kui p-väärtus ei ole väiksem kui 0,05, siis me ei saa nullhüpoteesi ümber lükata. Seega kahe rühma erinevus on statistiliselt oluline, kui p < 0,05.\n"
   ]
  },
  {
   "cell_type": "code",
   "execution_count": null,
   "metadata": {
    "id": "6zdLvFFSw__E"
   },
   "outputs": [],
   "source": []
  }
 ],
 "metadata": {
  "colab": {
   "name": "statistika_est.ipynb",
   "provenance": []
  },
  "kernelspec": {
   "display_name": "Python 3",
   "language": "python",
   "name": "python3"
  },
  "language_info": {
   "codemirror_mode": {
    "name": "ipython",
    "version": 3
   },
   "file_extension": ".py",
   "mimetype": "text/x-python",
   "name": "python",
   "nbconvert_exporter": "python",
   "pygments_lexer": "ipython3",
   "version": "3.7.12"
  },
  "widgets": {
   "application/vnd.jupyter.widget-state+json": {
    "39a36b2dd34347699d8d5839e24e36ae": {
     "model_module": "@jupyter-widgets/base",
     "model_name": "LayoutModel",
     "state": {
      "_model_module": "@jupyter-widgets/base",
      "_model_module_version": "1.2.0",
      "_model_name": "LayoutModel",
      "_view_count": null,
      "_view_module": "@jupyter-widgets/base",
      "_view_module_version": "1.2.0",
      "_view_name": "LayoutView",
      "align_content": null,
      "align_items": null,
      "align_self": null,
      "border": null,
      "bottom": null,
      "display": null,
      "flex": null,
      "flex_flow": null,
      "grid_area": null,
      "grid_auto_columns": null,
      "grid_auto_flow": null,
      "grid_auto_rows": null,
      "grid_column": null,
      "grid_gap": null,
      "grid_row": null,
      "grid_template_areas": null,
      "grid_template_columns": null,
      "grid_template_rows": null,
      "height": null,
      "justify_content": null,
      "justify_items": null,
      "left": null,
      "margin": null,
      "max_height": null,
      "max_width": null,
      "min_height": null,
      "min_width": null,
      "object_fit": null,
      "object_position": null,
      "order": null,
      "overflow": null,
      "overflow_x": null,
      "overflow_y": null,
      "padding": null,
      "right": null,
      "top": null,
      "visibility": null,
      "width": null
     }
    },
    "bb181f8fa2b348719ebb24a9106dba8e": {
     "model_module": "@jupyter-widgets/controls",
     "model_name": "ButtonStyleModel",
     "state": {
      "_model_module": "@jupyter-widgets/controls",
      "_model_module_version": "1.5.0",
      "_model_name": "ButtonStyleModel",
      "_view_count": null,
      "_view_module": "@jupyter-widgets/base",
      "_view_module_version": "1.2.0",
      "_view_name": "StyleView",
      "button_color": null,
      "font_weight": ""
     }
    },
    "f72a16df0bb64acabbac7ee27acb104d": {
     "model_module": "@jupyter-widgets/controls",
     "model_name": "FileUploadModel",
     "state": {
      "_counter": 1,
      "_dom_classes": [],
      "_model_module": "@jupyter-widgets/controls",
      "_model_module_version": "1.5.0",
      "_model_name": "FileUploadModel",
      "_view_count": null,
      "_view_module": "@jupyter-widgets/controls",
      "_view_module_version": "1.5.0",
      "_view_name": "FileUploadView",
      "accept": ".csv",
      "button_style": "",
      "data": [
       null
      ],
      "description": "Upload",
      "description_tooltip": null,
      "disabled": false,
      "error": "",
      "icon": "upload",
      "layout": "IPY_MODEL_39a36b2dd34347699d8d5839e24e36ae",
      "metadata": [
       {
        "lastModified": 1609841706334,
        "name": "linnud_stats.csv",
        "size": 13956,
        "type": "application/vnd.ms-excel"
       }
      ],
      "multiple": false,
      "style": "IPY_MODEL_bb181f8fa2b348719ebb24a9106dba8e"
     }
    }
   }
  }
 },
 "nbformat": 4,
 "nbformat_minor": 1
}
