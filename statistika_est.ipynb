{
 "cells": [
  {
   "cell_type": "markdown",
   "metadata": {
    "id": "pLBvTp_PCPgx"
   },
   "source": [
    "Maastikuökoloogia\n",
    "\n",
    "__Evelyn Uuemaa, PhD__\n",
    "\n",
    "- Praktikumi lisa\n",
    "\n",
    "    Tudengid laevad üles oma CSV-faili ja saavad selle põhjal teha karpdiagrammid. Ühtlasi saavad nad tulemuse aruande jaoks pildifailina alla laadida."
   ]
  },
  {
   "cell_type": "markdown",
   "metadata": {
    "id": "dU09-eocCPg5"
   },
   "source": [
    "## Kuidas seda skripti kasutada\n",
    "\n",
    "Mine hiirega kõige esimesele kastile ja vajuta \"Run\" nuppu, et üksus läbi jooksutada ja minna järgmiste plokkide juurde. Kui midagi valesti läheb, saad sa lihtsasti uuesti algusest alustada."
   ]
  },
  {
   "cell_type": "code",
   "execution_count": null,
   "metadata": {
    "id": "izMKLW4VCPg6"
   },
   "outputs": [],
   "source": [
    "from IPython.display import display\n",
    "import ipywidgets as widgets\n",
    "\n",
    "import pandas as pd\n",
    "import seaborn as sns\n",
    "import matplotlib.pyplot as plt\n",
    "\n",
    "sns.set_theme(style=\"whitegrid\")\n",
    "\n",
    "%matplotlib inline"
   ]
  },
  {
   "cell_type": "markdown",
   "metadata": {
    "id": "lJccJDl1XdbV"
   },
   "source": [
    "Ülejärgmise ploki juures tuleb sul arvutist valida äsja salvestatud CSV-fail. Kui sinu CSV-faili eraldusmärgiks on koma, pole vaja midagi muuta. Kui aga semikoolon, tee muutus järgmises plokis: csv_delimiter = \";\"."
   ]
  },
  {
   "cell_type": "code",
   "execution_count": null,
   "metadata": {
    "id": "GB-ljpDACPg9"
   },
   "outputs": [],
   "source": [
    "upload = widgets.FileUpload( accept='.csv', multiple=False )\n",
    "\n",
    "csv_delimiter = \",\"\n",
    "text_encoding = \"utf8\""
   ]
  },
  {
   "cell_type": "code",
   "execution_count": null,
   "metadata": {
    "colab": {
     "base_uri": "https://localhost:8080/",
     "height": 49,
     "referenced_widgets": [
      "6e46c25162df4527beb38433584f5e60",
      "2c4afd8f8cd14eba8b00c0824a10449f",
      "bf3478b81e0446dd9ab2ecf79142cece"
     ]
    },
    "id": "BjDuXlkECPg9",
    "outputId": "8b0686de-1914-499a-b34a-17a65992fb1d"
   },
   "outputs": [],
   "source": [
    "upload"
   ]
  },
  {
   "cell_type": "markdown",
   "metadata": {
    "id": "EGNME6bpCPg_"
   },
   "source": [
    "Kui oled faili oma arvutist valinud, peaks üleslaadimise lahter näitama \"Upload (1)\", mis tähendab, et fail on nüüd valitud.\n",
    "\n",
    "Jooksuta läbi järgmine plokk. Tulemuseks peaks olema ilus tabel, mitte ühes jorus tekst. Kui näed väärtuste vahel semikooloneid (;), tuleb teises plokis teha parandus (csv_delimiter = \";\")."
   ]
  },
  {
   "cell_type": "code",
   "execution_count": null,
   "metadata": {
    "colab": {
     "base_uri": "https://localhost:8080/",
     "height": 549
    },
    "id": "UIpA7Dx6CPhA",
    "outputId": "6c6d348d-554e-4036-d2ca-6b869840f9f0"
   },
   "outputs": [],
   "source": [
    "filestream_encoding = \"latin1\"\n",
    "\n",
    "t = upload.data[0].decode(encoding=filestream_encoding)\n",
    "\n",
    "with open('tmp.csv', 'w', encoding=text_encoding) as fh:\n",
    "    fh.write(t)\n",
    "\n",
    "df = pd.read_csv('tmp.csv', encoding=text_encoding, sep=csv_delimiter)\n",
    "\n",
    "df.head(10)"
   ]
  },
  {
   "cell_type": "markdown",
   "metadata": {
    "id": "G3G7rVvLCPhB"
   },
   "source": [
    "Nüüd on andmed loetud *dataframe*-formaati ja me saame arvutada statistikuid ning teha jooniseid. Muuda järgmises plokis muutuja \"classes\" väärtust, kui sul on see tulp mõne teise nimega kui \"Liik\" (nt \"liik\"). Seejärel jooksuta järgmist plokki, et saada karpvurrdiagramm.\n",
    "\n",
    "Iga järgmise näitajaga joonise tegemiseks muuda siin ka \"values\" väärtust (nt values = \"SEI\", values = \"AWMSI\" jne)."
   ]
  },
  {
   "cell_type": "code",
   "execution_count": null,
   "metadata": {
    "id": "Z33yffESCPhB"
   },
   "outputs": [],
   "source": [
    "classes = \"Liik\"\n",
    "\n",
    "values = \"SDI\""
   ]
  },
  {
   "cell_type": "code",
   "execution_count": null,
   "metadata": {
    "colab": {
     "base_uri": "https://localhost:8080/",
     "height": 904
    },
    "id": "1ZoHRp_BCPhB",
    "outputId": "bb93fb4d-b43b-4920-e005-021cd0e05ac0"
   },
   "outputs": [],
   "source": [
    "df['values_prep'] = pd.to_numeric(df[values], errors='coerce')\n",
    "\n",
    "df = df.rename(columns={values : f\"{values}_\"})\n",
    "df = df.rename(columns={'values_prep' : values})\n",
    "\n",
    "fig, ax = plt.subplots(figsize=(17,15))\n",
    "\n",
    "sns.boxplot(x=classes, y=values, data=df.dropna(subset=[classes, values]))\n",
    "\n",
    "plt.title(f\"Boxplot of {values} values for {classes} classes\", fontsize=20)\n",
    "\n",
    "plt.savefig('boxplots.png', bbox_inches='tight', transparent=False)\n",
    "plt.show()"
   ]
  },
  {
   "cell_type": "markdown",
   "metadata": {
    "id": "oU1U5pMxCPhC"
   },
   "source": [
    "[lae joonis alla siit](boxplots.png)\n",
    "\n",
    "Alternatiivina võid ka pildi lihtsalt otse kopeerida, vajutades hiire parema klõpsuga pildil."
   ]
  }
 ],
 "metadata": {
  "colab": {
   "name": "statistika_est.ipynb",
   "provenance": []
  },
  "kernelspec": {
   "display_name": "Python 3",
   "language": "python",
   "name": "python3"
  },
  "language_info": {
   "codemirror_mode": {
    "name": "ipython",
    "version": 3
   },
   "file_extension": ".py",
   "mimetype": "text/x-python",
   "name": "python",
   "nbconvert_exporter": "python",
   "pygments_lexer": "ipython3",
   "version": "3.7.8"
  },
  "widgets": {
   "application/vnd.jupyter.widget-state+json": {
    "2c4afd8f8cd14eba8b00c0824a10449f": {
     "model_module": "@jupyter-widgets/controls",
     "model_name": "ButtonStyleModel",
     "state": {
      "_model_module": "@jupyter-widgets/controls",
      "_model_module_version": "1.5.0",
      "_model_name": "ButtonStyleModel",
      "_view_count": null,
      "_view_module": "@jupyter-widgets/base",
      "_view_module_version": "1.2.0",
      "_view_name": "StyleView",
      "button_color": null,
      "font_weight": ""
     }
    },
    "6e46c25162df4527beb38433584f5e60": {
     "model_module": "@jupyter-widgets/controls",
     "model_name": "FileUploadModel",
     "state": {
      "_counter": 1,
      "_dom_classes": [],
      "_model_module": "@jupyter-widgets/controls",
      "_model_module_version": "1.5.0",
      "_model_name": "FileUploadModel",
      "_view_count": null,
      "_view_module": "@jupyter-widgets/controls",
      "_view_module_version": "1.5.0",
      "_view_name": "FileUploadView",
      "accept": ".csv",
      "button_style": "",
      "data": [
       null
      ],
      "description": "Upload",
      "description_tooltip": null,
      "disabled": false,
      "error": "",
      "icon": "upload",
      "layout": "IPY_MODEL_bf3478b81e0446dd9ab2ecf79142cece",
      "metadata": [
       {
        "lastModified": 1609941151011,
        "name": "maastikuindeksid_csv_koma.csv",
        "size": 24556,
        "type": "application/vnd.ms-excel"
       }
      ],
      "multiple": false,
      "style": "IPY_MODEL_2c4afd8f8cd14eba8b00c0824a10449f"
     }
    },
    "bf3478b81e0446dd9ab2ecf79142cece": {
     "model_module": "@jupyter-widgets/base",
     "model_name": "LayoutModel",
     "state": {
      "_model_module": "@jupyter-widgets/base",
      "_model_module_version": "1.2.0",
      "_model_name": "LayoutModel",
      "_view_count": null,
      "_view_module": "@jupyter-widgets/base",
      "_view_module_version": "1.2.0",
      "_view_name": "LayoutView",
      "align_content": null,
      "align_items": null,
      "align_self": null,
      "border": null,
      "bottom": null,
      "display": null,
      "flex": null,
      "flex_flow": null,
      "grid_area": null,
      "grid_auto_columns": null,
      "grid_auto_flow": null,
      "grid_auto_rows": null,
      "grid_column": null,
      "grid_gap": null,
      "grid_row": null,
      "grid_template_areas": null,
      "grid_template_columns": null,
      "grid_template_rows": null,
      "height": null,
      "justify_content": null,
      "justify_items": null,
      "left": null,
      "margin": null,
      "max_height": null,
      "max_width": null,
      "min_height": null,
      "min_width": null,
      "object_fit": null,
      "object_position": null,
      "order": null,
      "overflow": null,
      "overflow_x": null,
      "overflow_y": null,
      "padding": null,
      "right": null,
      "top": null,
      "visibility": null,
      "width": null
     }
    }
   }
  }
 },
 "nbformat": 4,
 "nbformat_minor": 1
}
