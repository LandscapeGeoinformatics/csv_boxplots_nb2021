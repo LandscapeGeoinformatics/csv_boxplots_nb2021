{
 "cells": [
  {
   "cell_type": "markdown",
   "id": "de2e459e-a8dd-4cc1-b941-7f1a86bb2cb5",
   "metadata": {},
   "source": [
    "## Ruumiandmete analüüs\n",
    "\n",
    "__Prof. Evelyn Uuemaa__\n",
    "\n",
    "Käesoleva skripti abil saate üles laadida oma CSV-faili ja selle põhjal teha karpdiagrammid ning Mann-Whitney U testi. Lõpuks saate tulemuse aruande jaoks pildifailina alla laadida."
   ]
  },
  {
   "cell_type": "markdown",
   "id": "3710b104-ecd1-46c0-a2d0-16b631e0625f",
   "metadata": {},
   "source": [
    "### Kuidas seda skripti kasutada\n",
    "\n",
    "Mine hiirega kõige esimesele kastile ja vajuta \"Run\" nuppu, et üksus läbi jooksutada ja minna järgmiste plokkide juurde. Kui midagi valesti läheb, saad sa lihtsasti uuesti algusest alustada."
   ]
  },
  {
   "cell_type": "code",
   "execution_count": 1,
   "id": "aaf75e4b-61a8-487d-87e4-8cc66e794d10",
   "metadata": {},
   "outputs": [
    {
     "ename": "ModuleNotFoundError",
     "evalue": "No module named 'ipywidgets'",
     "output_type": "error",
     "traceback": [
      "\u001b[1;31m---------------------------------------------------------------------------\u001b[0m",
      "\u001b[1;31mModuleNotFoundError\u001b[0m                       Traceback (most recent call last)",
      "Cell \u001b[1;32mIn[1], line 2\u001b[0m\n\u001b[0;32m      1\u001b[0m \u001b[38;5;28;01mfrom\u001b[39;00m \u001b[38;5;21;01mIPython\u001b[39;00m\u001b[38;5;21;01m.\u001b[39;00m\u001b[38;5;21;01mdisplay\u001b[39;00m \u001b[38;5;28;01mimport\u001b[39;00m display\n\u001b[1;32m----> 2\u001b[0m \u001b[38;5;28;01mimport\u001b[39;00m \u001b[38;5;21;01mipywidgets\u001b[39;00m \u001b[38;5;28;01mas\u001b[39;00m \u001b[38;5;21;01mwidgets\u001b[39;00m\n\u001b[0;32m      4\u001b[0m \u001b[38;5;28;01mimport\u001b[39;00m \u001b[38;5;21;01mpandas\u001b[39;00m \u001b[38;5;28;01mas\u001b[39;00m \u001b[38;5;21;01mpd\u001b[39;00m\n\u001b[0;32m      5\u001b[0m \u001b[38;5;28;01mimport\u001b[39;00m \u001b[38;5;21;01mseaborn\u001b[39;00m \u001b[38;5;28;01mas\u001b[39;00m \u001b[38;5;21;01msns\u001b[39;00m\n",
      "\u001b[1;31mModuleNotFoundError\u001b[0m: No module named 'ipywidgets'"
     ]
    }
   ],
   "source": [
    "from IPython.display import display\n",
    "import ipywidgets as widgets\n",
    "\n",
    "import pandas as pd\n",
    "import seaborn as sns\n",
    "import matplotlib.pyplot as plt\n",
    "\n",
    "sns.set_theme(style=\"whitegrid\")\n",
    "\n",
    "%matplotlib inline"
   ]
  },
  {
   "cell_type": "markdown",
   "id": "ad421714-74e1-439d-9904-caa28852cc6a",
   "metadata": {},
   "source": [
    "Ülejärgmise ploki juures tuleb sul arvutist valida äsja salvestatud CSV-fail. Kui sinu CSV-faili eraldusmärgiks on koma, pole vaja midagi muuta. Kui aga semikoolon, tee muutus järgmises plokis: csv_delimiter = \";\"."
   ]
  },
  {
   "cell_type": "code",
   "execution_count": null,
   "id": "ca87e67d-5e04-4a9d-9a60-8e5f9558c2ff",
   "metadata": {},
   "outputs": [],
   "source": [
    "upload = widgets.FileUpload( accept='.csv', multiple=False )\n",
    "\n",
    "csv_delimiter = \",\"\n",
    "text_encoding = \"utf8\""
   ]
  },
  {
   "cell_type": "code",
   "execution_count": null,
   "id": "2880386e-f45d-4b4c-bcdc-33d32084c9ec",
   "metadata": {},
   "outputs": [],
   "source": [
    "upload"
   ]
  },
  {
   "cell_type": "markdown",
   "id": "79cc56dd-f429-4f00-95ff-77540149516c",
   "metadata": {},
   "source": [
    "Kui oled faili oma arvutist valinud, peaks üleslaadimise lahter näitama \"Upload (1)\", mis tähendab, et fail on nüüd valitud.\n",
    "\n",
    "Jooksuta läbi järgmine plokk. Tulemuseks peaks olema ilus tabel, mitte ühes jorus tekst. Kui näed väärtuste vahel semikooloneid (;), tuleb teises plokis teha parandus (csv_delimiter = \";\")."
   ]
  },
  {
   "cell_type": "code",
   "execution_count": null,
   "id": "d1ddb735-7dd7-4347-af7e-f408be349135",
   "metadata": {},
   "outputs": [],
   "source": [
    "filestream_encoding = \"utf8\"\n",
    "\n",
    "t = upload.data[0].decode(encoding=filestream_encoding)\n",
    "\n",
    "with open('tmp.csv', 'w', encoding=text_encoding) as fh:\n",
    "    fh.write(t)\n",
    "\n",
    "df = pd.read_csv('tmp.csv', encoding=text_encoding, sep=csv_delimiter)\n",
    "\n",
    "df.head(10)"
   ]
  },
  {
   "cell_type": "markdown",
   "id": "a75caab5-8e95-49d7-b17d-5f1379921608",
   "metadata": {},
   "source": [
    "Nüüd on andmed loetud andmeraami *(dataframe)* formaati ja me saame arvutada statistikuid ning teha jooniseid. Muuda järgmises plokis muutuja \"layer\" väärtust, kui sul on see veerg mõne teise nimega kui \"layer\". Seejärel jooksuta järgmist plokki, et saada karpvurrdiagramm."
   ]
  },
  {
   "cell_type": "code",
   "execution_count": null,
   "id": "19c43e2a-8892-4168-8d34-71b68cd182df",
   "metadata": {},
   "outputs": [],
   "source": [
    "classes = \"layer\"\n",
    "\n",
    "values = \"DISTANCE\""
   ]
  },
  {
   "cell_type": "code",
   "execution_count": null,
   "id": "cfed8b9c-7a6e-48f2-bfb8-ca42bd6ec942",
   "metadata": {},
   "outputs": [],
   "source": [
    "df['values_prep'] = pd.to_numeric(df[values], errors='coerce')\n",
    "\n",
    "df = df.rename(columns={values : f\"{values}_\"})\n",
    "df = df.rename(columns={'values_prep' : values})\n",
    "\n",
    "fig, ax = plt.subplots(figsize=(5,7))\n",
    "\n",
    "sns.boxplot(x=classes, y=values, data=df.dropna(subset=[classes, values]), palette=\"Spectral\")\n",
    "plt.xticks(\n",
    "    rotation=0, \n",
    "    horizontalalignment='center',\n",
    "    fontweight='light',\n",
    "    fontsize='x-large', \n",
    ")\n",
    "plt.xlabel(classes, fontsize='x-large')\n",
    "plt.yticks(\n",
    "    rotation=0, \n",
    "    horizontalalignment='right',\n",
    "    fontweight='light',\n",
    "    fontsize='x-large',\n",
    ")\n",
    "plt.ylabel(values, fontsize='x-large')\n",
    "\n",
    "plt.title(f\" {values} box-plots\", fontsize=20)\n",
    "\n",
    "plt.savefig('boxplots.png', bbox_inches='tight', transparent=False)\n",
    "plt.show()"
   ]
  },
  {
   "cell_type": "markdown",
   "id": "0e770c72-f26a-405c-a88c-47f16bd30bb2",
   "metadata": {},
   "source": [
    "[lae joonis alla siit](boxplots.png)\n",
    "\n",
    "Alternatiivina võid ka pildi lihtsalt otse kopeerida, vajutades hiire parema klõpsuga pildil.\n",
    "\n",
    "**Karpdiagrammide tõlgendamine**\n",
    " “karbi” keskjoon näitab mediaani, karbi ülemine ja alumine serv märgib 75% ja 25% protsentiile (1. ja 3. kvartiili), püstjoonte äärmusotsad (vuntsid) markeerivad väljaspoole kvartiilihaaret x 1,5 jäävaid vaatlusi, mida nimetatakse erinditeks (outlier). (Kvartiilihaare on inglise keeles Interquartile range, IQR).\n",
    "\n",
    " Võrdle omavahel tegelike maastikutulekahjude ja juhuslike punktide kaugus teest mediaanväärtusi ja tee selle põhjal järeldus, kas maastikutulekahjud on juhusliku või mitte juhusliku paigutusega teede suhtes.\n"
   ]
  },
  {
   "cell_type": "markdown",
   "execution_count": null,
   "id": "243dbd05-8b7d-4506-a0bb-8a94be54fd03",
   "metadata": {},
   "outputs": [],
   "source": [
    "# Mann-Whitney U test\n",
    "\n",
    "Mann-Whitney U test on mitteparameetriline test, mida kasutatakse kahe rühma võrdlemiseks juhul kui rühmad ei ole normaaljaotusega ja/või vaatlusandmeid on vähe. Valimi suurus peaks olema vähemalt 20 ning võrreldavad muutujad  peaksid olema üksteisest sõltumatud. "
   ]
  },
  {
   "cell_type": "code",
   "execution_count": null,
   "id": "7b3d5145-611a-45d1-8164-964511ae2241",
   "metadata": {},
   "outputs": [],
   "source": [
    "from scipy.stats import mannwhitneyu\n",
    "\n",
    "if not len(df[classes].unique()) == 2:\n",
    "    print(\"Hoiatus! Vajalik on kaks klassi\")\n",
    "\n",
    "group1 = df.loc[df[classes] == df[classes].unique()[0]][values]\n",
    "group2 = df.loc[df[classes] == df[classes].unique()[1]][values]\n",
    "\n",
    "#perform the Mann-Whitney U test\n",
    "result = mannwhitneyu(group1, group2, alternative='two-sided')\n",
    "print(f\"U statistik {result.statistic}\")\n",
    "print(f\"P-väärtus {result.pvalue}\")"
   ]
  },
  {
   "cell_type": "markdown",
   "execution_count": null,
   "id": "b2deba11-a58b-414b-8e84-824e77421666",
   "metadata": {},
   "outputs": [],
   "source": [
    "**Tulemuste tõlgendamine**\n",
    "\n",
    "Nullhüpotees: kahe rühma jaotus on sarnane\n",
    "\n",
    "Sisukas hüpotees: kahe rühma jaotus on erinev\n",
    "\n",
    "Kui p-väärtus ei ole väiksem kui 0,05, siis me ei saa nullhüpoteesi ümber lükata. Seega kahe rühma erinevus on statistiliselt oluline, kui p < 0,05."
   ]
  }
 ],
 "metadata": {
  "kernelspec": {
   "display_name": "Python 3 (ipykernel)",
   "language": "python",
   "name": "python3"
  },
  "language_info": {
   "codemirror_mode": {
    "name": "ipython",
    "version": 3
   },
   "file_extension": ".py",
   "mimetype": "text/x-python",
   "name": "python",
   "nbconvert_exporter": "python",
   "pygments_lexer": "ipython3",
   "version": "3.12.3"
  }
 },
 "nbformat": 4,
 "nbformat_minor": 5
}
