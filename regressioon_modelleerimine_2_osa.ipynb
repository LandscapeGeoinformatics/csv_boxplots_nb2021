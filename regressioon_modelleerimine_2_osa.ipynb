{
 "cells": [
  {
   "cell_type": "markdown",
   "metadata": {
    "id": "pLBvTp_PCPgx"
   },
   "source": [
    "# Geosüsteemide modelleerimine II osa\n",
    "## Mitmene regressioonanalüüs\n",
    "\n",
    "__Prof. Evelyn Uuemaa__\n",
    "\n",
    "Skript võimaldab üles laadida oma CSV-faili ja selle põhjal teha mitmest regressioonanalüüsi."
   ]
  },
  {
   "cell_type": "markdown",
   "metadata": {
    "id": "dU09-eocCPg5"
   },
   "source": [
    "## Kuidas seda skripti kasutada\n",
    "\n",
    "Mine hiirega kõige esimesele kastile ja vajuta väikest \"Run\" nuppu (paremale näitav nooleke) või vajuta Ctrl+Enter, et üksus läbi jooksutada ja minna järgmiste plokkide juurde. Kui midagi valesti läheb, saad sa lihtsasti uuesti algusest alustada. Mõnes plokis on vaja osad sisendväärtused muuta. Need on tähistatud suurte tähtedega MUUDA SIIN"
   ]
  },
  {
   "cell_type": "code",
   "execution_count": 1,
   "metadata": {
    "id": "izMKLW4VCPg6"
   },
   "outputs": [],
   "source": [
    "# Impordi vajalikud paketid\n",
    "from IPython.display import display\n",
    "import ipywidgets as widgets\n",
    "\n",
    "import pandas as pd\n",
    "import seaborn as sns\n",
    "import statsmodels.api as sm\n",
    "import matplotlib.pyplot as plt\n",
    "from scipy import stats\n",
    "from sklearn.model_selection import train_test_split\n",
    "from sklearn.metrics import r2_score\n",
    "\n",
    "sns.set_theme(style=\"whitegrid\")\n",
    "\n",
    "%matplotlib inline"
   ]
  },
  {
   "cell_type": "markdown",
   "metadata": {
    "id": "lJccJDl1XdbV"
   },
   "source": [
    "Ülejärgmise ploki juures tuleb sul arvutist valida äsja salvestatud CSV-fail. Kui sinu CSV-faili eraldusmärgiks on koma, pole vaja midagi muuta. Kui aga semikoolon, tee muutus järgmises plokis: csv_delimiter = \";\"."
   ]
  },
  {
   "cell_type": "code",
   "execution_count": 2,
   "metadata": {
    "id": "GB-ljpDACPg9"
   },
   "outputs": [],
   "source": [
    "upload = widgets.FileUpload( accept='.csv', multiple=False )\n",
    "\n",
    "csv_delimiter = \",\"\n",
    "text_encoding = \"utf8\""
   ]
  },
  {
   "cell_type": "code",
   "execution_count": null,
   "metadata": {
    "colab": {
     "base_uri": "https://localhost:8080/",
     "height": 49,
     "referenced_widgets": [
      "f72a16df0bb64acabbac7ee27acb104d",
      "bb181f8fa2b348719ebb24a9106dba8e",
      "39a36b2dd34347699d8d5839e24e36ae"
     ]
    },
    "id": "BjDuXlkECPg9",
    "outputId": "b33a4d5d-9ccb-4bc1-bda3-e474ab4da192"
   },
   "outputs": [],
   "source": [
    "upload"
   ]
  },
  {
   "cell_type": "markdown",
   "metadata": {
    "id": "EGNME6bpCPg_"
   },
   "source": [
    "Kui oled faili oma arvutist valinud, peaks üleslaadimise lahter näitama \"Upload (1)\", mis tähendab, et fail on nüüd valitud.\n",
    "\n",
    "Jooksuta läbi järgmine plokk. Tulemuseks peaks olema ilus tabel, mitte ühes jorus tekst. Kui näed väärtuste vahel semikooloneid (;), tuleb teises plokis teha parandus (csv_delimiter = \";\")."
   ]
  },
  {
   "cell_type": "code",
   "execution_count": null,
   "metadata": {
    "colab": {
     "base_uri": "https://localhost:8080/",
     "height": 359
    },
    "id": "UIpA7Dx6CPhA",
    "outputId": "8313e1df-786c-49b3-bc7d-95f786912bcd"
   },
   "outputs": [],
   "source": [
    "filestream_encoding = \"utf8\"\n",
    "\n",
    "t = upload.data[0].decode(encoding=filestream_encoding)\n",
    "\n",
    "with open('tmp.csv', 'w', encoding=text_encoding) as fh:\n",
    "    fh.write(t)\n",
    "\n",
    "data = pd.read_csv('tmp.csv', encoding=text_encoding, sep=csv_delimiter)\n",
    "\n",
    "data.head(10)"
   ]
  },
  {
   "cell_type": "markdown",
   "metadata": {},
   "source": [
    "### Sõltuva (ennustatav) ja sõltumatu (seletava) tunnuse määratlemine\n",
    "Defineeri esmalt sõltumatu ja sõltuva tunnuse."
   ]
  },
  {
   "cell_type": "code",
   "execution_count": null,
   "metadata": {},
   "outputs": [],
   "source": [
    "# Defineeri sõltuv tunnus (Y) ja sõltumatu tunnus (X)\n",
    "# MUUDA SIIN: vaata oma tabelit ja vali õiged väärtused sõltumatuks ja sõltuvaks tunnuseks\n",
    "Y = data['Sõltuv tunnus']  # Kirjuta \"Sõltuva tunnus\" asemele õige veeru nimi tabelist\n",
    "X = data[['Sõltumatu tunnus 1', 'Sõltumatu tunnus 2']]  # Kirjuta \"Sõltumatu tunnus\" asemele õige veeru nimi tabelist(kõrgus merepinnast ja x-koordinaat)"
   ]
  },
  {
   "cell_type": "markdown",
   "metadata": {},
   "source": [
    "## Sisendandmete treening- ja valideerimisandmeteks jagamine\n",
    "Selleks, et saaksime testida mudelit sõltumatute andmete peal (andmed, mida mudel pole varem näinud), jagame andmed kaheks. 70% andmetest jätame treeningandmeteks, mille alusel loome mudeli ning 30% andmetest jätame valideerimiseks. Valideerimisandmete peal mudelit rakendades saame teada kui hästi mudel tegelikult töötab."
   ]
  },
  {
   "cell_type": "code",
   "execution_count": 19,
   "metadata": {},
   "outputs": [],
   "source": [
    "# Tee valim kaheks - treeningandmeteks (70%) ja valideerimisandmeteks (30%)\n",
    "X_train, X_test, Y_train, Y_test = train_test_split(X, Y, test_size=0.3, random_state=42)"
   ]
  },
  {
   "cell_type": "markdown",
   "metadata": {},
   "source": [
    "## Treeni mudel ja prognoosi\n"
   ]
  },
  {
   "cell_type": "code",
   "execution_count": null,
   "metadata": {},
   "outputs": [],
   "source": [
    "# Lisa mudelisse konstant\n",
    "X_train = sm.add_constant(X_train)\n",
    "\n",
    "# Sobita regressioonimudel\n",
    "model = sm.OLS(Y_train, X_train).fit()\n",
    "\n",
    "# Prindi regressiooni tulemused\n",
    "print(\"Training Model Summary:\")\n",
    "print(model.summary())\n",
    "\n",
    "# Prognoosi treening- ja valideerimisandmete peal\n",
    "Y_train_pred = model.predict(X_train)\n",
    "Y_test_pred = model.predict(sm.add_constant(X_test))\n",
    "\n",
    "# Arvuta R² treening- ja valideerimisandmete jaoks\n",
    "train_r2 = r2_score(Y_train, Y_train_pred)\n",
    "test_r2 = r2_score(Y_test, Y_test_pred)\n",
    "\n",
    "print(f\"\\nTraining R²: {train_r2:.2f}\")\n",
    "print(f\"Test R²: {test_r2:.2f}\")\n",
    "\n",
    "# Pane prognoositud väärtused ja tegelikud väärtused graafikule\n",
    "plt.figure(figsize=(12, 5))\n",
    "\n",
    "# Treeningandmete graafik\n",
    "plt.subplot(1, 2, 1)\n",
    "plt.scatter(Y_train, Y_train_pred, color='blue')\n",
    "plt.plot([Y_train.min(), Y_train.max()], [Y_train.min(), Y_train.max()], '--', color='red')\n",
    "plt.xlabel('Mõõdetud väärtused')\n",
    "plt.ylabel('Prognoositud väärtused')\n",
    "plt.title('Treeningandmed: Prognoositud vs mõõdetud')\n",
    "plt.legend()\n",
    "plt.grid(True)\n",
    "\n",
    "# Valideerimisandmete graafik\n",
    "plt.subplot(1, 2, 2)\n",
    "plt.scatter(Y_test, Y_test_pred, color='green')\n",
    "plt.plot([Y_test.min(), Y_test.max()], [Y_test.min(), Y_test.max()], '--', color='red')\n",
    "plt.xlabel('Mõõdetud väärtused')\n",
    "plt.ylabel('Prognoositud väärtused')\n",
    "plt.title('Valideerimisandmed: Prognoositud vs mõõdetud')\n",
    "plt.legend()\n",
    "plt.grid(True)\n",
    "\n",
    "plt.tight_layout()\n",
    "plt.show()"
   ]
  },
  {
   "cell_type": "markdown",
   "metadata": {},
   "source": [
    "## Mudeli tulemuste interpreteerimine\n",
    "Vaata mudeli treeningandmete (Training) ja valideerimisandmete (Test) determinatsioonikordaja (R2) väärtust. Mõlemate väärtus peaks olema üle 0.7 ja üsna sarnane, mis näitab, et mudel on väga hea - kirjeldab ära suure osa ennustatava muutuja (antud juhul temperatuuri) varieeruvusest ja mudel pole üle sobitatud (valideerimisandmete R2 ei ole oluliselt väiksem kui treeningandmete R2). Lisaks peaks uue mudeli R2 olema tunduvalt parem kui esimese mudeli R2, mis näitab, et uus mudel kirjeldab ära suurema osa temperatuuri varieeruvusest."
   ]
  },
  {
   "cell_type": "markdown",
   "metadata": {},
   "source": [
    "## Võta mudeli parameetrid\n",
    "Viimasena loome regressioonivõrrandi mudeli parameetrite abil. Koostatav võrrand on meie mudel, mille abil saame temperatuuri modelleerida maapinna kõrguste põhjal."
   ]
  },
  {
   "cell_type": "code",
   "execution_count": null,
   "metadata": {},
   "outputs": [],
   "source": [
    "# Võta mudeli koefitsiendid\n",
    "coefficients = model.params\n",
    "\n",
    "# Koosta regressioonivõrrand (mudel)\n",
    "equation = \"Y = \" + str(coefficients[0])\n",
    "for i, col in enumerate(X_train.columns[1:]):  \n",
    "    equation += f\" + ({coefficients[i + 1]}) * {col}\"\n",
    "\n",
    "print(\"Mudel (regressioonivõrrand):\")\n",
    "print(equation)"
   ]
  },
  {
   "cell_type": "markdown",
   "metadata": {
    "id": "6zdLvFFSw__E"
   },
   "source": [
    "Kasuta saadud parameetreid QGISis mudeli arvutusteks."
   ]
  }
 ],
 "metadata": {
  "colab": {
   "name": "statistika_est.ipynb",
   "provenance": []
  },
  "kernelspec": {
   "display_name": "Python 3 (ipykernel)",
   "language": "python",
   "name": "python3"
  },
  "language_info": {
   "codemirror_mode": {
    "name": "ipython",
    "version": 3
   },
   "file_extension": ".py",
   "mimetype": "text/x-python",
   "name": "python",
   "nbconvert_exporter": "python",
   "pygments_lexer": "ipython3",
   "version": "3.11.11"
  },
  "widgets": {
   "application/vnd.jupyter.widget-state+json": {
    "39a36b2dd34347699d8d5839e24e36ae": {
     "model_module": "@jupyter-widgets/base",
     "model_name": "LayoutModel",
     "state": {
      "_model_module": "@jupyter-widgets/base",
      "_model_module_version": "1.2.0",
      "_model_name": "LayoutModel",
      "_view_count": null,
      "_view_module": "@jupyter-widgets/base",
      "_view_module_version": "1.2.0",
      "_view_name": "LayoutView",
      "align_content": null,
      "align_items": null,
      "align_self": null,
      "border": null,
      "bottom": null,
      "display": null,
      "flex": null,
      "flex_flow": null,
      "grid_area": null,
      "grid_auto_columns": null,
      "grid_auto_flow": null,
      "grid_auto_rows": null,
      "grid_column": null,
      "grid_gap": null,
      "grid_row": null,
      "grid_template_areas": null,
      "grid_template_columns": null,
      "grid_template_rows": null,
      "height": null,
      "justify_content": null,
      "justify_items": null,
      "left": null,
      "margin": null,
      "max_height": null,
      "max_width": null,
      "min_height": null,
      "min_width": null,
      "object_fit": null,
      "object_position": null,
      "order": null,
      "overflow": null,
      "overflow_x": null,
      "overflow_y": null,
      "padding": null,
      "right": null,
      "top": null,
      "visibility": null,
      "width": null
     }
    },
    "bb181f8fa2b348719ebb24a9106dba8e": {
     "model_module": "@jupyter-widgets/controls",
     "model_name": "ButtonStyleModel",
     "state": {
      "_model_module": "@jupyter-widgets/controls",
      "_model_module_version": "1.5.0",
      "_model_name": "ButtonStyleModel",
      "_view_count": null,
      "_view_module": "@jupyter-widgets/base",
      "_view_module_version": "1.2.0",
      "_view_name": "StyleView",
      "button_color": null,
      "font_weight": ""
     }
    },
    "f72a16df0bb64acabbac7ee27acb104d": {
     "model_module": "@jupyter-widgets/controls",
     "model_name": "FileUploadModel",
     "state": {
      "_counter": 1,
      "_dom_classes": [],
      "_model_module": "@jupyter-widgets/controls",
      "_model_module_version": "1.5.0",
      "_model_name": "FileUploadModel",
      "_view_count": null,
      "_view_module": "@jupyter-widgets/controls",
      "_view_module_version": "1.5.0",
      "_view_name": "FileUploadView",
      "accept": ".csv",
      "button_style": "",
      "data": [
       null
      ],
      "description": "Upload",
      "description_tooltip": null,
      "disabled": false,
      "error": "",
      "icon": "upload",
      "layout": "IPY_MODEL_39a36b2dd34347699d8d5839e24e36ae",
      "metadata": [
       {
        "lastModified": 1609841706334,
        "name": "linnud_stats.csv",
        "size": 13956,
        "type": "application/vnd.ms-excel"
       }
      ],
      "multiple": false,
      "style": "IPY_MODEL_bb181f8fa2b348719ebb24a9106dba8e"
     }
    }
   }
  }
 },
 "nbformat": 4,
 "nbformat_minor": 4
}
