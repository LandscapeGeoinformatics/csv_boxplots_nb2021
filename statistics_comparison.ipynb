{
 "cells": [
  {
   "cell_type": "markdown",
   "metadata": {
    "id": "pLBvTp_PCPgx"
   },
   "source": [
    "Spatial Data Analysis\n",
    "\n",
    "__Evelyn Uuemaa, PhD__\n",
    "\n",
    "- Course supplement\n",
    "    Students upload a csv file and can do box-plots based on the file. They are then also able to download the images for reporting."
   ]
  },
  {
   "cell_type": "markdown",
   "metadata": {
    "id": "dU09-eocCPg5"
   },
   "source": [
    "## How to use this notebook\n",
    "\n",
    "Highlight the top cell and click the \"Run\" button to execute the cells and move the program forward. If anything goes wrong, you can easily restart from the beginning."
   ]
  },
  {
   "cell_type": "code",
   "execution_count": 1,
   "metadata": {
    "id": "izMKLW4VCPg6"
   },
   "outputs": [],
   "source": [
    "from IPython.display import display\n",
    "import ipywidgets as widgets\n",
    "\n",
    "import pandas as pd\n",
    "import seaborn as sns\n",
    "import matplotlib.pyplot as plt\n",
    "\n",
    "sns.set_theme(style=\"whitegrid\")\n",
    "\n",
    "%matplotlib inline"
   ]
  },
  {
   "cell_type": "code",
   "execution_count": 2,
   "metadata": {
    "id": "GB-ljpDACPg9"
   },
   "outputs": [],
   "source": [
    "upload = widgets.FileUpload( accept='.csv', multiple=False )\n",
    "\n",
    "csv_delimiter = \",\"\n",
    "text_encoding = \"utf8\""
   ]
  },
  {
   "cell_type": "markdown",
   "metadata": {
    "id": "lJccJDl1XdbV"
   },
   "source": [
    "In the next cell, you need to upload the csv-file from your computer."
   ]
  },
  {
   "cell_type": "code",
   "execution_count": 3,
   "metadata": {
    "colab": {
     "base_uri": "https://localhost:8080/",
     "height": 49,
     "referenced_widgets": [
      "f72a16df0bb64acabbac7ee27acb104d",
      "bb181f8fa2b348719ebb24a9106dba8e",
      "39a36b2dd34347699d8d5839e24e36ae"
     ]
    },
    "id": "BjDuXlkECPg9",
    "outputId": "b33a4d5d-9ccb-4bc1-bda3-e474ab4da192"
   },
   "outputs": [
    {
     "data": {
      "application/vnd.jupyter.widget-view+json": {
       "model_id": "2fc50048f9d941b0bd487cf7731e0342",
       "version_major": 2,
       "version_minor": 0
      },
      "text/plain": [
       "FileUpload(value={}, accept='.csv', description='Upload')"
      ]
     },
     "metadata": {},
     "output_type": "display_data"
    }
   ],
   "source": [
    "upload"
   ]
  },
  {
   "cell_type": "markdown",
   "metadata": {
    "id": "EGNME6bpCPg_"
   },
   "source": [
    "After you selected the file, the upload field should show (1), that means the file is now selected.\n",
    "\n",
    "Click on the next cell to continue..."
   ]
  },
  {
   "cell_type": "code",
   "execution_count": 4,
   "metadata": {
    "colab": {
     "base_uri": "https://localhost:8080/",
     "height": 359
    },
    "id": "UIpA7Dx6CPhA",
    "outputId": "8313e1df-786c-49b3-bc7d-95f786912bcd"
   },
   "outputs": [
    {
     "data": {
      "text/html": [
       "<div>\n",
       "<style scoped>\n",
       "    .dataframe tbody tr th:only-of-type {\n",
       "        vertical-align: middle;\n",
       "    }\n",
       "\n",
       "    .dataframe tbody tr th {\n",
       "        vertical-align: top;\n",
       "    }\n",
       "\n",
       "    .dataframe thead th {\n",
       "        text-align: right;\n",
       "    }\n",
       "</style>\n",
       "<table border=\"1\" class=\"dataframe\">\n",
       "  <thead>\n",
       "    <tr style=\"text-align: right;\">\n",
       "      <th></th>\n",
       "      <th>fid</th>\n",
       "      <th>LINE_ID</th>\n",
       "      <th>DISTANCE</th>\n",
       "      <th>X</th>\n",
       "      <th>Y</th>\n",
       "      <th>type</th>\n",
       "    </tr>\n",
       "  </thead>\n",
       "  <tbody>\n",
       "    <tr>\n",
       "      <th>0</th>\n",
       "      <td>1</td>\n",
       "      <td>VÃµle - Vainupea - Kunda</td>\n",
       "      <td>746.641394</td>\n",
       "      <td>631987.6460</td>\n",
       "      <td>6603979.404</td>\n",
       "      <td>fire</td>\n",
       "    </tr>\n",
       "    <tr>\n",
       "      <th>1</th>\n",
       "      <td>2</td>\n",
       "      <td>Meossaare tee</td>\n",
       "      <td>8.359085</td>\n",
       "      <td>595267.5550</td>\n",
       "      <td>6504521.095</td>\n",
       "      <td>fire</td>\n",
       "    </tr>\n",
       "    <tr>\n",
       "      <th>2</th>\n",
       "      <td>3</td>\n",
       "      <td>Rae</td>\n",
       "      <td>356.416940</td>\n",
       "      <td>503457.8580</td>\n",
       "      <td>6578908.705</td>\n",
       "      <td>fire</td>\n",
       "    </tr>\n",
       "    <tr>\n",
       "      <th>3</th>\n",
       "      <td>4</td>\n",
       "      <td>JÃµhvi - Ereda</td>\n",
       "      <td>87.466517</td>\n",
       "      <td>687392.1665</td>\n",
       "      <td>6582281.763</td>\n",
       "      <td>fire</td>\n",
       "    </tr>\n",
       "    <tr>\n",
       "      <th>4</th>\n",
       "      <td>5</td>\n",
       "      <td>Lagedi - Oru</td>\n",
       "      <td>350.103891</td>\n",
       "      <td>702764.2110</td>\n",
       "      <td>6587017.072</td>\n",
       "      <td>fire</td>\n",
       "    </tr>\n",
       "    <tr>\n",
       "      <th>5</th>\n",
       "      <td>6</td>\n",
       "      <td>JÃµhvi - Tartu - Valga</td>\n",
       "      <td>334.129808</td>\n",
       "      <td>639550.7200</td>\n",
       "      <td>6456868.374</td>\n",
       "      <td>fire</td>\n",
       "    </tr>\n",
       "    <tr>\n",
       "      <th>6</th>\n",
       "      <td>7</td>\n",
       "      <td>Vao tee</td>\n",
       "      <td>21.303824</td>\n",
       "      <td>625919.7402</td>\n",
       "      <td>6553212.213</td>\n",
       "      <td>fire</td>\n",
       "    </tr>\n",
       "    <tr>\n",
       "      <th>7</th>\n",
       "      <td>8</td>\n",
       "      <td>Kaagvere kooli tee</td>\n",
       "      <td>44.982500</td>\n",
       "      <td>669223.8326</td>\n",
       "      <td>6470931.203</td>\n",
       "      <td>fire</td>\n",
       "    </tr>\n",
       "    <tr>\n",
       "      <th>8</th>\n",
       "      <td>9</td>\n",
       "      <td>Puskaru - VÃ¤imela</td>\n",
       "      <td>316.707308</td>\n",
       "      <td>676513.8837</td>\n",
       "      <td>6422293.751</td>\n",
       "      <td>fire</td>\n",
       "    </tr>\n",
       "    <tr>\n",
       "      <th>9</th>\n",
       "      <td>10</td>\n",
       "      <td>Kehra jaama tee</td>\n",
       "      <td>238.320820</td>\n",
       "      <td>575838.4640</td>\n",
       "      <td>6578060.988</td>\n",
       "      <td>fire</td>\n",
       "    </tr>\n",
       "  </tbody>\n",
       "</table>\n",
       "</div>"
      ],
      "text/plain": [
       "   fid                   LINE_ID    DISTANCE            X            Y  type\n",
       "0    1  VÃµle - Vainupea - Kunda  746.641394  631987.6460  6603979.404  fire\n",
       "1    2             Meossaare tee    8.359085  595267.5550  6504521.095  fire\n",
       "2    3                       Rae  356.416940  503457.8580  6578908.705  fire\n",
       "3    4            JÃµhvi - Ereda   87.466517  687392.1665  6582281.763  fire\n",
       "4    5              Lagedi - Oru  350.103891  702764.2110  6587017.072  fire\n",
       "5    6    JÃµhvi - Tartu - Valga  334.129808  639550.7200  6456868.374  fire\n",
       "6    7                   Vao tee   21.303824  625919.7402  6553212.213  fire\n",
       "7    8        Kaagvere kooli tee   44.982500  669223.8326  6470931.203  fire\n",
       "8    9        Puskaru - VÃ¤imela  316.707308  676513.8837  6422293.751  fire\n",
       "9   10           Kehra jaama tee  238.320820  575838.4640  6578060.988  fire"
      ]
     },
     "execution_count": 4,
     "metadata": {},
     "output_type": "execute_result"
    }
   ],
   "source": [
    "filestream_encoding = \"latin1\"\n",
    "\n",
    "t = upload.data[0].decode(encoding=filestream_encoding)\n",
    "\n",
    "with open('tmp.csv', 'w', encoding=text_encoding) as fh:\n",
    "    fh.write(t)\n",
    "\n",
    "df = pd.read_csv('tmp.csv', encoding=text_encoding, sep=csv_delimiter)\n",
    "\n",
    "df.head(10)"
   ]
  },
  {
   "cell_type": "markdown",
   "metadata": {
    "id": "G3G7rVvLCPhB"
   },
   "source": [
    "Now we have the data loaded into the dataframe and we can run the statistics and plots. In the following cell configure the names of the class column and the value columns if needed."
   ]
  },
  {
   "cell_type": "code",
   "execution_count": 5,
   "metadata": {
    "id": "Z33yffESCPhB"
   },
   "outputs": [],
   "source": [
    "classes = \"type\"\n",
    "\n",
    "values = \"DISTANCE\""
   ]
  },
  {
   "cell_type": "code",
   "execution_count": 6,
   "metadata": {
    "colab": {
     "base_uri": "https://localhost:8080/",
     "height": 474
    },
    "id": "1ZoHRp_BCPhB",
    "outputId": "021c8dfc-8a13-4afc-d6cb-fa017feb1958"
   },
   "outputs": [
    {
     "data": {
      "image/png": "[encoded data removed]",
      "text/plain": [
       "<Figure size 360x504 with 1 Axes>"
      ]
     },
     "metadata": {
      "needs_background": "light"
     },
     "output_type": "display_data"
    }
   ],
   "source": [
    "df['values_prep'] = pd.to_numeric(df[values], errors='coerce')\n",
    "\n",
    "df = df.rename(columns={values : f\"{values}_\"})\n",
    "df = df.rename(columns={'values_prep' : values})\n",
    "\n",
    "fig, ax = plt.subplots(figsize=(5,7))\n",
    "\n",
    "sns.boxplot(x=classes, y=values, data=df.dropna(subset=[classes, values]), palette=\"Spectral\")\n",
    "plt.xticks(\n",
    "    rotation=0, \n",
    "    horizontalalignment='center',\n",
    "    fontweight='light',\n",
    "    fontsize='x-large', \n",
    ")\n",
    "plt.xlabel(classes, fontsize='x-large')\n",
    "plt.yticks(\n",
    "    rotation=0, \n",
    "    horizontalalignment='right',\n",
    "    fontweight='light',\n",
    "    fontsize='x-large',\n",
    ")\n",
    "plt.ylabel(values, fontsize='x-large')\n",
    "\n",
    "plt.title(f\" {values} box-plots\", fontsize=20)\n",
    "\n",
    "plt.savefig('boxplots.png', bbox_inches='tight', transparent=False)\n",
    "plt.show()"
   ]
  },
  {
   "cell_type": "markdown",
   "metadata": {
    "id": "oU1U5pMxCPhC"
   },
   "source": [
    "[download the image from here](boxplots.png)\n",
    "\n",
    "Alternatively, just copy the image directly from the browser with mouse click.\n",
    "\n",
    "**How to interpret the box-plots**\n",
    "Box plots are used to show overall patterns of characteristic for a group. They provide a useful way to visualise the range and other characteristics of characteristics for a large group.\n",
    "The middle line marks the median (middle quartile) which is the mid-point of the data. Half the scores are greater than or equal to this value and half are less.\n",
    "\n",
    "The middle “box” represents the inter-quartile range i.e. middle 50% of scores for the group. The range of scores from lower to upper quartile is referred to as the inter-quartile range. The middle 50% of scores fall within the inter-quartile range.\n",
    "\n",
    "The upper and lower whiskers represent scores outside the middle 50%. Whiskers often (but not always) stretch over a wider range of scores than the middle quartile groups."
   ]
  },
  {
   "cell_type": "markdown",
   "metadata": {
    "id": "w54C7uQ5w__C"
   },
   "source": [
    "## Mann-Whitney U test\n",
    "\n",
    "A Mann-Whitney U test (sometimes called the Wilcoxon rank-sum test) is used to compare the differences between two independent samples when the sample distributions are not normally distributed and the sample sizes are small."
   ]
  },
  {
   "cell_type": "code",
   "execution_count": 7,
   "metadata": {
    "colab": {
     "base_uri": "https://localhost:8080/"
    },
    "id": "wXHkGfi1w__D",
    "outputId": "b0425309-0dc1-449a-a79c-951671a811d9"
   },
   "outputs": [
    {
     "name": "stdout",
     "output_type": "stream",
     "text": [
      "The test statistic is 16362197.0\n",
      "The corresponding two-sided p-value is 0.0\n"
     ]
    }
   ],
   "source": [
    "from scipy.stats import mannwhitneyu\n",
    "\n",
    "if not len(df[classes].unique()) == 2:\n",
    "    print(\"Warning, to compare two groups in the statistical tests, we need only two different types in classes\")\n",
    "\n",
    "group1 = df.loc[df[classes] == df[classes].unique()[0]][values]\n",
    "group2 = df.loc[df[classes] == df[classes].unique()[1]][values]\n",
    "\n",
    "#perform the Mann-Whitney U test\n",
    "result = mannwhitneyu(group1, group2, alternative='two-sided')\n",
    "print(f\"The test statistic is {result.statistic}\")\n",
    "print(f\"The corresponding two-sided p-value is {result.pvalue}\")"
   ]
  },
  {
   "cell_type": "markdown",
   "metadata": {
    "id": "JKrRl8o3w__D"
   },
   "source": [
    "**How to interpret the results**\n",
    "\n",
    "The Mann-Whitney U Test uses the following null and alternative hypotheses:\n",
    "\n",
    "H0 (Null Hypothesis): The distribution of values is equal between the two groups\n",
    "\n",
    "HA (Alternative Hypothesis): The distribution of values is NOT equal between the two groups\n",
    "\n",
    "If the p-value is not smaller than 0.05, we fail to reject the null hypothesis. Therefore, if p<0.05 then there is statistically significant difference between the two groups."
   ]
  },
  {
   "cell_type": "code",
   "execution_count": null,
   "metadata": {
    "id": "6zdLvFFSw__E"
   },
   "outputs": [],
   "source": []
  }
 ],
 "metadata": {
  "colab": {
   "name": "statistika_est.ipynb",
   "provenance": []
  },
  "kernelspec": {
   "display_name": "Python 3",
   "language": "python",
   "name": "python3"
  },
  "language_info": {
   "codemirror_mode": {
    "name": "ipython",
    "version": 3
   },
   "file_extension": ".py",
   "mimetype": "text/x-python",
   "name": "python",
   "nbconvert_exporter": "python",
   "pygments_lexer": "ipython3",
   "version": "3.7.10"
  },
  "widgets": {
   "application/vnd.jupyter.widget-state+json": {
    "39a36b2dd34347699d8d5839e24e36ae": {
     "model_module": "@jupyter-widgets/base",
     "model_name": "LayoutModel",
     "state": {
      "_model_module": "@jupyter-widgets/base",
      "_model_module_version": "1.2.0",
      "_model_name": "LayoutModel",
      "_view_count": null,
      "_view_module": "@jupyter-widgets/base",
      "_view_module_version": "1.2.0",
      "_view_name": "LayoutView",
      "align_content": null,
      "align_items": null,
      "align_self": null,
      "border": null,
      "bottom": null,
      "display": null,
      "flex": null,
      "flex_flow": null,
      "grid_area": null,
      "grid_auto_columns": null,
      "grid_auto_flow": null,
      "grid_auto_rows": null,
      "grid_column": null,
      "grid_gap": null,
      "grid_row": null,
      "grid_template_areas": null,
      "grid_template_columns": null,
      "grid_template_rows": null,
      "height": null,
      "justify_content": null,
      "justify_items": null,
      "left": null,
      "margin": null,
      "max_height": null,
      "max_width": null,
      "min_height": null,
      "min_width": null,
      "object_fit": null,
      "object_position": null,
      "order": null,
      "overflow": null,
      "overflow_x": null,
      "overflow_y": null,
      "padding": null,
      "right": null,
      "top": null,
      "visibility": null,
      "width": null
     }
    },
    "bb181f8fa2b348719ebb24a9106dba8e": {
     "model_module": "@jupyter-widgets/controls",
     "model_name": "ButtonStyleModel",
     "state": {
      "_model_module": "@jupyter-widgets/controls",
      "_model_module_version": "1.5.0",
      "_model_name": "ButtonStyleModel",
      "_view_count": null,
      "_view_module": "@jupyter-widgets/base",
      "_view_module_version": "1.2.0",
      "_view_name": "StyleView",
      "button_color": null,
      "font_weight": ""
     }
    },
    "f72a16df0bb64acabbac7ee27acb104d": {
     "model_module": "@jupyter-widgets/controls",
     "model_name": "FileUploadModel",
     "state": {
      "_counter": 1,
      "_dom_classes": [],
      "_model_module": "@jupyter-widgets/controls",
      "_model_module_version": "1.5.0",
      "_model_name": "FileUploadModel",
      "_view_count": null,
      "_view_module": "@jupyter-widgets/controls",
      "_view_module_version": "1.5.0",
      "_view_name": "FileUploadView",
      "accept": ".csv",
      "button_style": "",
      "data": [
       null
      ],
      "description": "Upload",
      "description_tooltip": null,
      "disabled": false,
      "error": "",
      "icon": "upload",
      "layout": "IPY_MODEL_39a36b2dd34347699d8d5839e24e36ae",
      "metadata": [
       {
        "lastModified": 1609841706334,
        "name": "linnud_stats.csv",
        "size": 13956,
        "type": "application/vnd.ms-excel"
       }
      ],
      "multiple": false,
      "style": "IPY_MODEL_bb181f8fa2b348719ebb24a9106dba8e"
     }
    }
   }
  }
 },
 "nbformat": 4,
 "nbformat_minor": 1
}
