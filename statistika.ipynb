{
 "cells": [
  {
   "cell_type": "markdown",
   "metadata": {
    "id": "pLBvTp_PCPgx"
   },
   "source": [
    "# Landscape Ecology\n",
    "\n",
    "__Evelyn Uuemaa, PhD__\n",
    "\n",
    "- Course supplement\n",
    "\n",
    "    Students upload a csv file and can do box-plots based on the file. They are then also able to download the images for reporting."
   ]
  },
  {
   "cell_type": "markdown",
   "metadata": {
    "id": "dU09-eocCPg5"
   },
   "source": [
    "## How to use this notebook\n",
    "\n",
    "Highlight the top cell and click the \"Run\" button to execute the cells and move the program forward. If anything goes wrong, you can easily restart from the beginning."
   ]
  },
  {
   "cell_type": "code",
   "execution_count": 1,
   "metadata": {
    "id": "izMKLW4VCPg6"
   },
   "outputs": [],
   "source": [
    "from IPython.display import display\n",
    "import ipywidgets as widgets\n",
    "\n",
    "import pandas as pd\n",
    "import seaborn as sns\n",
    "import matplotlib.pyplot as plt\n",
    "\n",
    "sns.set_theme(style=\"whitegrid\")\n",
    "\n",
    "%matplotlib inline"
   ]
  },
  {
   "cell_type": "code",
   "execution_count": 2,
   "metadata": {
    "id": "GB-ljpDACPg9"
   },
   "outputs": [],
   "source": [
    "upload = widgets.FileUpload( accept='.csv', multiple=False )\n",
    "\n",
    "csv_delimiter = \",\"\n",
    "text_encoding = \"utf8\""
   ]
  },
  {
   "cell_type": "code",
   "execution_count": 3,
   "metadata": {
    "colab": {
     "base_uri": "https://localhost:8080/",
     "height": 49,
     "referenced_widgets": [
      "1121b6bb4c684ea3bc98d7954bb282f9",
      "ca4e78308c6e429ea8d63198fa38c4fb",
      "eaad029d3e6b4c589b38cdbb72401785"
     ]
    },
    "id": "BjDuXlkECPg9",
    "outputId": "43a4ef7d-88ee-4013-af00-5ba18689f22f"
   },
   "outputs": [
    {
     "data": {
      "application/vnd.jupyter.widget-view+json": {
       "model_id": "eb26d56063b6495c87e43c08097ba5d1",
       "version_major": 2,
       "version_minor": 0
      },
      "text/plain": [
       "FileUpload(value={}, accept='.csv', description='Upload')"
      ]
     },
     "metadata": {},
     "output_type": "display_data"
    }
   ],
   "source": [
    "upload"
   ]
  },
  {
   "cell_type": "markdown",
   "metadata": {
    "id": "EGNME6bpCPg_"
   },
   "source": [
    "After you selected the file, the upload field should show (1), that means the file is now selected.\n",
    "\n",
    "Click on the _next cell_ to continue..."
   ]
  },
  {
   "cell_type": "code",
   "execution_count": 4,
   "metadata": {
    "colab": {
     "base_uri": "https://localhost:8080/",
     "height": 359
    },
    "id": "UIpA7Dx6CPhA",
    "outputId": "2157e166-ff29-4adb-b47a-69cc6c156529"
   },
   "outputs": [
    {
     "data": {
      "text/html": [
       "<div>\n",
       "<style scoped>\n",
       "    .dataframe tbody tr th:only-of-type {\n",
       "        vertical-align: middle;\n",
       "    }\n",
       "\n",
       "    .dataframe tbody tr th {\n",
       "        vertical-align: top;\n",
       "    }\n",
       "\n",
       "    .dataframe thead th {\n",
       "        text-align: right;\n",
       "    }\n",
       "</style>\n",
       "<table border=\"1\" class=\"dataframe\">\n",
       "  <thead>\n",
       "    <tr style=\"text-align: right;\">\n",
       "      <th></th>\n",
       "      <th>Name</th>\n",
       "      <th>Liik</th>\n",
       "      <th>RunDate</th>\n",
       "      <th>Run</th>\n",
       "      <th>Class</th>\n",
       "      <th>SDI</th>\n",
       "      <th>SEI</th>\n",
       "      <th>AWMSI</th>\n",
       "      <th>MSI</th>\n",
       "      <th>MPAR</th>\n",
       "      <th>MPFD</th>\n",
       "      <th>ED</th>\n",
       "      <th>MPE</th>\n",
       "      <th>MPS</th>\n",
       "      <th>NumP</th>\n",
       "      <th>MedPS</th>\n",
       "      <th>PSCoV</th>\n",
       "      <th>TLA</th>\n",
       "    </tr>\n",
       "  </thead>\n",
       "  <tbody>\n",
       "    <tr>\n",
       "      <th>0</th>\n",
       "      <td>80662_clip</td>\n",
       "      <td>rukkirääk</td>\n",
       "      <td>16.01.2018 15:28:02</td>\n",
       "      <td>1</td>\n",
       "      <td>All</td>\n",
       "      <td>1.850</td>\n",
       "      <td>0.889</td>\n",
       "      <td>1.562</td>\n",
       "      <td>1.542</td>\n",
       "      <td>176.240</td>\n",
       "      <td>1.281</td>\n",
       "      <td>89.116</td>\n",
       "      <td>2799.470</td>\n",
       "      <td>31.414</td>\n",
       "      <td>10.0</td>\n",
       "      <td>23.578</td>\n",
       "      <td>82.803</td>\n",
       "      <td>314.139</td>\n",
       "    </tr>\n",
       "    <tr>\n",
       "      <th>1</th>\n",
       "      <td>79202_clip</td>\n",
       "      <td>rukkirääk</td>\n",
       "      <td>16.01.2018 15:28:02</td>\n",
       "      <td>2</td>\n",
       "      <td>All</td>\n",
       "      <td>0.936</td>\n",
       "      <td>0.675</td>\n",
       "      <td>1.752</td>\n",
       "      <td>1.724</td>\n",
       "      <td>334.480</td>\n",
       "      <td>1.307</td>\n",
       "      <td>70.888</td>\n",
       "      <td>4454.041</td>\n",
       "      <td>62.832</td>\n",
       "      <td>5.0</td>\n",
       "      <td>66.056</td>\n",
       "      <td>56.717</td>\n",
       "      <td>314.159</td>\n",
       "    </tr>\n",
       "    <tr>\n",
       "      <th>2</th>\n",
       "      <td>79200_clip</td>\n",
       "      <td>rukkirääk</td>\n",
       "      <td>16.01.2018 15:28:02</td>\n",
       "      <td>3</td>\n",
       "      <td>All</td>\n",
       "      <td>0.860</td>\n",
       "      <td>0.621</td>\n",
       "      <td>1.541</td>\n",
       "      <td>1.630</td>\n",
       "      <td>142.683</td>\n",
       "      <td>1.282</td>\n",
       "      <td>67.981</td>\n",
       "      <td>3559.491</td>\n",
       "      <td>52.360</td>\n",
       "      <td>6.0</td>\n",
       "      <td>38.030</td>\n",
       "      <td>86.933</td>\n",
       "      <td>314.159</td>\n",
       "    </tr>\n",
       "    <tr>\n",
       "      <th>3</th>\n",
       "      <td>78355_clip</td>\n",
       "      <td>rukkirääk</td>\n",
       "      <td>16.01.2018 15:28:03</td>\n",
       "      <td>4</td>\n",
       "      <td>All</td>\n",
       "      <td>1.495</td>\n",
       "      <td>0.835</td>\n",
       "      <td>1.520</td>\n",
       "      <td>1.657</td>\n",
       "      <td>275.600</td>\n",
       "      <td>1.310</td>\n",
       "      <td>74.101</td>\n",
       "      <td>2909.832</td>\n",
       "      <td>39.268</td>\n",
       "      <td>8.0</td>\n",
       "      <td>21.056</td>\n",
       "      <td>106.491</td>\n",
       "      <td>314.148</td>\n",
       "    </tr>\n",
       "    <tr>\n",
       "      <th>4</th>\n",
       "      <td>78354_clip</td>\n",
       "      <td>rukkirääk</td>\n",
       "      <td>16.01.2018 15:28:03</td>\n",
       "      <td>5</td>\n",
       "      <td>All</td>\n",
       "      <td>1.512</td>\n",
       "      <td>0.777</td>\n",
       "      <td>1.856</td>\n",
       "      <td>1.721</td>\n",
       "      <td>209.810</td>\n",
       "      <td>1.305</td>\n",
       "      <td>91.338</td>\n",
       "      <td>2869.440</td>\n",
       "      <td>31.416</td>\n",
       "      <td>10.0</td>\n",
       "      <td>12.886</td>\n",
       "      <td>126.807</td>\n",
       "      <td>314.156</td>\n",
       "    </tr>\n",
       "    <tr>\n",
       "      <th>5</th>\n",
       "      <td>77340_clip</td>\n",
       "      <td>rukkirääk</td>\n",
       "      <td>16.01.2018 15:28:03</td>\n",
       "      <td>6</td>\n",
       "      <td>All</td>\n",
       "      <td>1.725</td>\n",
       "      <td>0.785</td>\n",
       "      <td>1.612</td>\n",
       "      <td>1.796</td>\n",
       "      <td>557.838</td>\n",
       "      <td>1.349</td>\n",
       "      <td>93.960</td>\n",
       "      <td>2270.582</td>\n",
       "      <td>24.165</td>\n",
       "      <td>13.0</td>\n",
       "      <td>8.825</td>\n",
       "      <td>115.645</td>\n",
       "      <td>314.150</td>\n",
       "    </tr>\n",
       "    <tr>\n",
       "      <th>6</th>\n",
       "      <td>73713_clip</td>\n",
       "      <td>rukkirääk</td>\n",
       "      <td>16.01.2018 15:28:03</td>\n",
       "      <td>7</td>\n",
       "      <td>All</td>\n",
       "      <td>1.319</td>\n",
       "      <td>0.820</td>\n",
       "      <td>2.197</td>\n",
       "      <td>1.856</td>\n",
       "      <td>141.457</td>\n",
       "      <td>1.298</td>\n",
       "      <td>92.936</td>\n",
       "      <td>4170.936</td>\n",
       "      <td>44.880</td>\n",
       "      <td>7.0</td>\n",
       "      <td>20.930</td>\n",
       "      <td>107.395</td>\n",
       "      <td>314.159</td>\n",
       "    </tr>\n",
       "    <tr>\n",
       "      <th>7</th>\n",
       "      <td>73708_clip</td>\n",
       "      <td>rukkirääk</td>\n",
       "      <td>16.01.2018 15:28:04</td>\n",
       "      <td>8</td>\n",
       "      <td>All</td>\n",
       "      <td>1.259</td>\n",
       "      <td>0.703</td>\n",
       "      <td>2.060</td>\n",
       "      <td>1.685</td>\n",
       "      <td>905.638</td>\n",
       "      <td>1.351</td>\n",
       "      <td>86.782</td>\n",
       "      <td>3407.935</td>\n",
       "      <td>39.270</td>\n",
       "      <td>8.0</td>\n",
       "      <td>22.043</td>\n",
       "      <td>115.587</td>\n",
       "      <td>314.159</td>\n",
       "    </tr>\n",
       "    <tr>\n",
       "      <th>8</th>\n",
       "      <td>67910_clip</td>\n",
       "      <td>rukkirääk</td>\n",
       "      <td>16.01.2018 15:28:04</td>\n",
       "      <td>9</td>\n",
       "      <td>All</td>\n",
       "      <td>1.763</td>\n",
       "      <td>0.848</td>\n",
       "      <td>1.638</td>\n",
       "      <td>1.515</td>\n",
       "      <td>153.569</td>\n",
       "      <td>1.281</td>\n",
       "      <td>104.650</td>\n",
       "      <td>2528.880</td>\n",
       "      <td>24.165</td>\n",
       "      <td>13.0</td>\n",
       "      <td>20.436</td>\n",
       "      <td>77.969</td>\n",
       "      <td>314.147</td>\n",
       "    </tr>\n",
       "    <tr>\n",
       "      <th>9</th>\n",
       "      <td>64432_clip</td>\n",
       "      <td>rukkirääk</td>\n",
       "      <td>16.01.2018 15:28:04</td>\n",
       "      <td>10</td>\n",
       "      <td>All</td>\n",
       "      <td>1.067</td>\n",
       "      <td>0.663</td>\n",
       "      <td>1.566</td>\n",
       "      <td>1.532</td>\n",
       "      <td>136.180</td>\n",
       "      <td>1.272</td>\n",
       "      <td>59.173</td>\n",
       "      <td>3717.490</td>\n",
       "      <td>62.824</td>\n",
       "      <td>5.0</td>\n",
       "      <td>32.007</td>\n",
       "      <td>112.659</td>\n",
       "      <td>314.121</td>\n",
       "    </tr>\n",
       "  </tbody>\n",
       "</table>\n",
       "</div>"
      ],
      "text/plain": [
       "         Name       Liik              RunDate  Run Class    SDI    SEI  AWMSI  \\\n",
       "0  80662_clip  rukkirääk  16.01.2018 15:28:02    1   All  1.850  0.889  1.562   \n",
       "1  79202_clip  rukkirääk  16.01.2018 15:28:02    2   All  0.936  0.675  1.752   \n",
       "2  79200_clip  rukkirääk  16.01.2018 15:28:02    3   All  0.860  0.621  1.541   \n",
       "3  78355_clip  rukkirääk  16.01.2018 15:28:03    4   All  1.495  0.835  1.520   \n",
       "4  78354_clip  rukkirääk  16.01.2018 15:28:03    5   All  1.512  0.777  1.856   \n",
       "5  77340_clip  rukkirääk  16.01.2018 15:28:03    6   All  1.725  0.785  1.612   \n",
       "6  73713_clip  rukkirääk  16.01.2018 15:28:03    7   All  1.319  0.820  2.197   \n",
       "7  73708_clip  rukkirääk  16.01.2018 15:28:04    8   All  1.259  0.703  2.060   \n",
       "8  67910_clip  rukkirääk  16.01.2018 15:28:04    9   All  1.763  0.848  1.638   \n",
       "9  64432_clip  rukkirääk  16.01.2018 15:28:04   10   All  1.067  0.663  1.566   \n",
       "\n",
       "     MSI     MPAR   MPFD       ED       MPE     MPS  NumP   MedPS    PSCoV  \\\n",
       "0  1.542  176.240  1.281   89.116  2799.470  31.414  10.0  23.578   82.803   \n",
       "1  1.724  334.480  1.307   70.888  4454.041  62.832   5.0  66.056   56.717   \n",
       "2  1.630  142.683  1.282   67.981  3559.491  52.360   6.0  38.030   86.933   \n",
       "3  1.657  275.600  1.310   74.101  2909.832  39.268   8.0  21.056  106.491   \n",
       "4  1.721  209.810  1.305   91.338  2869.440  31.416  10.0  12.886  126.807   \n",
       "5  1.796  557.838  1.349   93.960  2270.582  24.165  13.0   8.825  115.645   \n",
       "6  1.856  141.457  1.298   92.936  4170.936  44.880   7.0  20.930  107.395   \n",
       "7  1.685  905.638  1.351   86.782  3407.935  39.270   8.0  22.043  115.587   \n",
       "8  1.515  153.569  1.281  104.650  2528.880  24.165  13.0  20.436   77.969   \n",
       "9  1.532  136.180  1.272   59.173  3717.490  62.824   5.0  32.007  112.659   \n",
       "\n",
       "       TLA  \n",
       "0  314.139  \n",
       "1  314.159  \n",
       "2  314.159  \n",
       "3  314.148  \n",
       "4  314.156  \n",
       "5  314.150  \n",
       "6  314.159  \n",
       "7  314.159  \n",
       "8  314.147  \n",
       "9  314.121  "
      ]
     },
     "execution_count": 4,
     "metadata": {},
     "output_type": "execute_result"
    }
   ],
   "source": [
    "filestream_encoding = \"latin1\"\n",
    "\n",
    "t = upload.data[0].decode(encoding=filestream_encoding)\n",
    "\n",
    "with open('tmp.csv', 'w', encoding=text_encoding) as fh:\n",
    "    fh.write(t)\n",
    "\n",
    "df = pd.read_csv('tmp.csv', encoding=text_encoding, delimiter=csv_delimiter)\n",
    "\n",
    "df.head(10)"
   ]
  },
  {
   "cell_type": "markdown",
   "metadata": {
    "id": "G3G7rVvLCPhB"
   },
   "source": [
    "Now we have the data loaded into the dataframe and we can run the statistics and plots. In the following cell configure the names of the class column and the value columns."
   ]
  },
  {
   "cell_type": "code",
   "execution_count": 5,
   "metadata": {
    "id": "Z33yffESCPhB"
   },
   "outputs": [],
   "source": [
    "classes = \"Liik\"\n",
    "\n",
    "values = \"SDI\""
   ]
  },
  {
   "cell_type": "code",
   "execution_count": 6,
   "metadata": {
    "colab": {
     "base_uri": "https://localhost:8080/",
     "height": 904
    },
    "id": "1ZoHRp_BCPhB",
    "outputId": "9108106d-25a1-4baa-d8ae-84b598044502"
   },
   "outputs": [
    {
     "data": {
      "image/png": "[encoded data removed]",
      "text/plain": [
       "<Figure size 1224x1080 with 1 Axes>"
      ]
     },
     "metadata": {
      "needs_background": "light"
     },
     "output_type": "display_data"
    }
   ],
   "source": [
    "df['values_prep'] = pd.to_numeric(df[values], errors='coerce')\n",
    "\n",
    "df = df.rename(columns={values : f\"{values}_\"})\n",
    "df = df.rename(columns={'values_prep' : values})\n",
    "\n",
    "fig, ax = plt.subplots(figsize=(17,15))\n",
    "\n",
    "sns.boxplot(x=classes, y=values, data=df.dropna(subset=[classes, values]))\n",
    "\n",
    "plt.title(f\"Boxplot of {values} values for {classes} classes\", fontsize=20)\n",
    "\n",
    "plt.savefig('boxplots.png', bbox_inches='tight', transparent=False)\n",
    "plt.show()"
   ]
  },
  {
   "cell_type": "markdown",
   "metadata": {
    "id": "oU1U5pMxCPhC"
   },
   "source": [
    "[download image here](boxplots.png)\n",
    "\n",
    "Alternatively, just copy the image directly from the browser with mouse click."
   ]
  }
 ],
 "metadata": {
  "colab": {
   "name": "statistika.ipynb",
   "provenance": []
  },
  "kernelspec": {
   "display_name": "Python 3",
   "language": "python",
   "name": "python3"
  },
  "language_info": {
   "codemirror_mode": {
    "name": "ipython",
    "version": 3
   },
   "file_extension": ".py",
   "mimetype": "text/x-python",
   "name": "python",
   "nbconvert_exporter": "python",
   "pygments_lexer": "ipython3",
   "version": "3.7.8"
  },
  "widgets": {
   "application/vnd.jupyter.widget-state+json": {
    "1121b6bb4c684ea3bc98d7954bb282f9": {
     "model_module": "@jupyter-widgets/controls",
     "model_name": "FileUploadModel",
     "state": {
      "_counter": 1,
      "_dom_classes": [],
      "_model_module": "@jupyter-widgets/controls",
      "_model_module_version": "1.5.0",
      "_model_name": "FileUploadModel",
      "_view_count": null,
      "_view_module": "@jupyter-widgets/controls",
      "_view_module_version": "1.5.0",
      "_view_name": "FileUploadView",
      "accept": ".csv",
      "button_style": "",
      "data": [
       null
      ],
      "description": "Upload",
      "description_tooltip": null,
      "disabled": false,
      "error": "",
      "icon": "upload",
      "layout": "IPY_MODEL_eaad029d3e6b4c589b38cdbb72401785",
      "metadata": [
       {
        "lastModified": 1609841706334,
        "name": "linnud_stats.csv",
        "size": 13956,
        "type": "application/vnd.ms-excel"
       }
      ],
      "multiple": false,
      "style": "IPY_MODEL_ca4e78308c6e429ea8d63198fa38c4fb"
     }
    },
    "ca4e78308c6e429ea8d63198fa38c4fb": {
     "model_module": "@jupyter-widgets/controls",
     "model_name": "ButtonStyleModel",
     "state": {
      "_model_module": "@jupyter-widgets/controls",
      "_model_module_version": "1.5.0",
      "_model_name": "ButtonStyleModel",
      "_view_count": null,
      "_view_module": "@jupyter-widgets/base",
      "_view_module_version": "1.2.0",
      "_view_name": "StyleView",
      "button_color": null,
      "font_weight": ""
     }
    },
    "eaad029d3e6b4c589b38cdbb72401785": {
     "model_module": "@jupyter-widgets/base",
     "model_name": "LayoutModel",
     "state": {
      "_model_module": "@jupyter-widgets/base",
      "_model_module_version": "1.2.0",
      "_model_name": "LayoutModel",
      "_view_count": null,
      "_view_module": "@jupyter-widgets/base",
      "_view_module_version": "1.2.0",
      "_view_name": "LayoutView",
      "align_content": null,
      "align_items": null,
      "align_self": null,
      "border": null,
      "bottom": null,
      "display": null,
      "flex": null,
      "flex_flow": null,
      "grid_area": null,
      "grid_auto_columns": null,
      "grid_auto_flow": null,
      "grid_auto_rows": null,
      "grid_column": null,
      "grid_gap": null,
      "grid_row": null,
      "grid_template_areas": null,
      "grid_template_columns": null,
      "grid_template_rows": null,
      "height": null,
      "justify_content": null,
      "justify_items": null,
      "left": null,
      "margin": null,
      "max_height": null,
      "max_width": null,
      "min_height": null,
      "min_width": null,
      "object_fit": null,
      "object_position": null,
      "order": null,
      "overflow": null,
      "overflow_x": null,
      "overflow_y": null,
      "padding": null,
      "right": null,
      "top": null,
      "visibility": null,
      "width": null
     }
    }
   }
  }
 },
 "nbformat": 4,
 "nbformat_minor": 4
}
